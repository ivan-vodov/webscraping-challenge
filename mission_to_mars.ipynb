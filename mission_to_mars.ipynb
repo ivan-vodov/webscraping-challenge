{
 "cells": [
  {
   "cell_type": "code",
   "execution_count": 2,
   "metadata": {},
   "outputs": [],
   "source": [
    "# Dependencies\n",
    "from bs4 import BeautifulSoup\n",
    "from splinter import Browser\n",
    "import requests\n",
    "import pymongo\n",
    "import time\n",
    "import pandas as pd"
   ]
  },
  {
   "cell_type": "code",
   "execution_count": 3,
   "metadata": {},
   "outputs": [],
   "source": [
    "# open browser window using splinter \n",
    "def init_browser():\n",
    "    executable_path = {\"executable_path\": r\"C:/chromedriver.exe\"}\n",
    "    return Browser(\"chrome\", **executable_path, headless=False)\n",
    "browser = init_browser()\n",
    "\n",
    "# Initialize PyMongo to work with MongoDBs\n",
    "conn = 'mongodb://localhost:27017'\n",
    "client = pymongo.MongoClient(conn)"
   ]
  },
  {
   "cell_type": "code",
   "execution_count": 109,
   "metadata": {},
   "outputs": [
    {
     "data": {
      "text/plain": [
       "<pymongo.results.DeleteResult at 0x24438474438>"
      ]
     },
     "execution_count": 109,
     "metadata": {},
     "output_type": "execute_result"
    }
   ],
   "source": [
    "# Define database and collection\n",
    "db = client.mission_to_mars_db\n",
    "collection = db.items\n",
    "db.items.delete_many({})"
   ]
  },
  {
   "cell_type": "markdown",
   "metadata": {},
   "source": [
    "# Scraping"
   ]
  },
  {
   "cell_type": "markdown",
   "metadata": {},
   "source": [
    "## NASA Mars News\n",
    "Note: the content (list of news) is parsed using Splinter as using just page source with BeautifulSoup returns narrower and not the latest results"
   ]
  },
  {
   "cell_type": "code",
   "execution_count": 73,
   "metadata": {
    "scrolled": false
   },
   "outputs": [],
   "source": [
    "# open page with splinter\n",
    "url = 'https://mars.nasa.gov/news/?page=0&per_page=40&order=publish_date+desc%2Ccreated_at+desc&search=&category=19%2C165%2C184%2C204&blank_scope=Latest'\n",
    "browser.visit(url)\n",
    "# wait for page content to be generated\n",
    "time.sleep(5)\n",
    "\n"
   ]
  },
  {
   "cell_type": "code",
   "execution_count": 75,
   "metadata": {},
   "outputs": [
    {
     "data": {
      "text/plain": [
       "<div class=\"list_text\"><div class=\"list_date\">May 23, 2018</div><div class=\"content_title\"><a href=\"/news/8342/insight-steers-toward-mars/\" target=\"_self\">InSight Steers Toward Mars</a></div><div class=\"article_teaser_body\">The spacecraft has completed its first trajectory correction maneuver.</div></div>"
      ]
     },
     "execution_count": 75,
     "metadata": {},
     "output_type": "execute_result"
    }
   ],
   "source": [
    "# get into b/s, get list of elements to extract the data from\n",
    "soup = BeautifulSoup(browser.html, 'lxml')\n",
    "result=soup.find('div', class_='list_text')\n",
    "result"
   ]
  },
  {
   "cell_type": "code",
   "execution_count": 79,
   "metadata": {},
   "outputs": [
    {
     "name": "stdout",
     "output_type": "stream",
     "text": [
      "InSight Steers Toward Mars\n",
      "The spacecraft has completed its first trajectory correction maneuver.\n"
     ]
    }
   ],
   "source": [
    "#Extract title and teaser into variables\n",
    "news_title=result.find('div', class_='content_title',recursive=True).text\n",
    "news_title=news_title.replace('\\n', ' ').replace('\\r', '').strip()\n",
    "news_p=result.find('div', class_='article_teaser_body',recursive=True).text\n",
    "news_p=news_p.replace('\\n', ' ').replace('\\r', '').strip()\n",
    "print(news_title)\n",
    "print(news_p)"
   ]
  },
  {
   "cell_type": "markdown",
   "metadata": {},
   "source": [
    "## JPL Mars Space Images - Featured Image"
   ]
  },
  {
   "cell_type": "code",
   "execution_count": 8,
   "metadata": {},
   "outputs": [],
   "source": [
    "# open page with splinter\n",
    "url = 'https://www.jpl.nasa.gov/spaceimages/?search=&category=mars'\n",
    "browser.visit(url)\n",
    "# click the button opening the featured image\n",
    "browser.click_link_by_id('full_image')\n",
    "# wait for page content to be generated\n",
    "time.sleep(5)\n",
    "# click the button opening details page for the featured image\n",
    "browser.click_link_by_partial_text('more info')"
   ]
  },
  {
   "cell_type": "code",
   "execution_count": 9,
   "metadata": {},
   "outputs": [
    {
     "data": {
      "text/plain": [
       "[<div class=\"download_tiff\">\n",
       " <p>Full-Res TIFF: <a href=\"//photojournal.jpl.nasa.gov/tiff/PIA16227.tif\">PIA16227.tif</a></p>\n",
       " </div>, <div class=\"download_tiff\">\n",
       " <p>Full-Res JPG: <a href=\"//photojournal.jpl.nasa.gov/jpeg/PIA16227.jpg\">PIA16227.jpg</a></p>\n",
       " </div>]"
      ]
     },
     "execution_count": 9,
     "metadata": {},
     "output_type": "execute_result"
    }
   ],
   "source": [
    "soup = BeautifulSoup(browser.html, 'lxml')\n",
    "results=soup.find_all('div', class_='download_tiff')\n",
    "results"
   ]
  },
  {
   "cell_type": "code",
   "execution_count": 11,
   "metadata": {},
   "outputs": [
    {
     "data": {
      "text/plain": [
       "'https://photojournal.jpl.nasa.gov/jpeg/PIA16227.jpg'"
      ]
     },
     "execution_count": 11,
     "metadata": {},
     "output_type": "execute_result"
    }
   ],
   "source": [
    "for result in results:\n",
    "    # Error handling\n",
    "    try:\n",
    "        # Identify and return URL of jpeg image\n",
    "      if ('jpg' in result.find('a').text):\n",
    "        featured_image_url= 'https:'+result.find('a')['href']    \n",
    "    except Exception as e:\n",
    "      print(e)\n",
    "    \n",
    "featured_image_url"
   ]
  },
  {
   "cell_type": "markdown",
   "metadata": {},
   "source": [
    "## Mars Weather"
   ]
  },
  {
   "cell_type": "code",
   "execution_count": 13,
   "metadata": {},
   "outputs": [
    {
     "data": {
      "text/plain": [
       "'Sol 2058 (May 21, 2018), Sunny, high 4C/39F, low -71C/-95F, pressure at 7.43 hPa, daylight 05:20-17:20'"
      ]
     },
     "execution_count": 13,
     "metadata": {},
     "output_type": "execute_result"
    }
   ],
   "source": [
    "url='https://twitter.com/marswxreport?lang=en'\n",
    "response = requests.get(url)\n",
    "soup = BeautifulSoup(response.text, 'lxml')\n",
    "# get into b/s, get list of elements to extract the data from\n",
    "mars_weather=soup.find('p', class_='TweetTextSize').text\n",
    "mars_weather"
   ]
  },
  {
   "cell_type": "markdown",
   "metadata": {},
   "source": [
    "## Mars Facts"
   ]
  },
  {
   "cell_type": "code",
   "execution_count": 40,
   "metadata": {},
   "outputs": [
    {
     "data": {
      "text/html": [
       "<div>\n",
       "<style scoped>\n",
       "    .dataframe tbody tr th:only-of-type {\n",
       "        vertical-align: middle;\n",
       "    }\n",
       "\n",
       "    .dataframe tbody tr th {\n",
       "        vertical-align: top;\n",
       "    }\n",
       "\n",
       "    .dataframe thead th {\n",
       "        text-align: right;\n",
       "    }\n",
       "</style>\n",
       "<table border=\"1\" class=\"dataframe\">\n",
       "  <thead>\n",
       "    <tr style=\"text-align: right;\">\n",
       "      <th></th>\n",
       "      <th>0</th>\n",
       "      <th>1</th>\n",
       "    </tr>\n",
       "  </thead>\n",
       "  <tbody>\n",
       "    <tr>\n",
       "      <th>0</th>\n",
       "      <td>Equatorial Diameter:</td>\n",
       "      <td>120,536 km</td>\n",
       "    </tr>\n",
       "    <tr>\n",
       "      <th>1</th>\n",
       "      <td>Polar Diameter:</td>\n",
       "      <td>108,728 km</td>\n",
       "    </tr>\n",
       "    <tr>\n",
       "      <th>2</th>\n",
       "      <td>Mass:</td>\n",
       "      <td>5.68 × 10^26 kg (95 Earths)</td>\n",
       "    </tr>\n",
       "    <tr>\n",
       "      <th>3</th>\n",
       "      <td>Moons:</td>\n",
       "      <td>62 (Titan, Enceladus, Iapetus &amp; Rhea)</td>\n",
       "    </tr>\n",
       "    <tr>\n",
       "      <th>4</th>\n",
       "      <td>Rings:</td>\n",
       "      <td>30+ (7 Groups)</td>\n",
       "    </tr>\n",
       "    <tr>\n",
       "      <th>5</th>\n",
       "      <td>Orbit Distance:</td>\n",
       "      <td>1,426,666,422 km (9.54 AU)</td>\n",
       "    </tr>\n",
       "    <tr>\n",
       "      <th>6</th>\n",
       "      <td>Orbit Period:</td>\n",
       "      <td>10,756 days (29.5 years)</td>\n",
       "    </tr>\n",
       "    <tr>\n",
       "      <th>7</th>\n",
       "      <td>Effective Temperature:</td>\n",
       "      <td>-178 °C</td>\n",
       "    </tr>\n",
       "    <tr>\n",
       "      <th>8</th>\n",
       "      <td>First Record:</td>\n",
       "      <td>8th century BC</td>\n",
       "    </tr>\n",
       "    <tr>\n",
       "      <th>9</th>\n",
       "      <td>Recorded By:</td>\n",
       "      <td>Assyrians</td>\n",
       "    </tr>\n",
       "  </tbody>\n",
       "</table>\n",
       "</div>"
      ],
      "text/plain": [
       "                        0                                      1\n",
       "0    Equatorial Diameter:                             120,536 km\n",
       "1         Polar Diameter:                             108,728 km\n",
       "2                   Mass:            5.68 × 10^26 kg (95 Earths)\n",
       "3                  Moons:  62 (Titan, Enceladus, Iapetus & Rhea)\n",
       "4                  Rings:                         30+ (7 Groups)\n",
       "5         Orbit Distance:             1,426,666,422 km (9.54 AU)\n",
       "6           Orbit Period:               10,756 days (29.5 years)\n",
       "7  Effective Temperature:                                -178 °C\n",
       "8           First Record:                         8th century BC\n",
       "9            Recorded By:                              Assyrians"
      ]
     },
     "execution_count": 40,
     "metadata": {},
     "output_type": "execute_result"
    }
   ],
   "source": [
    "url = 'https://space-facts.com/mars/s'\n",
    "tables = pd.read_html(url)\n",
    "tables[0]"
   ]
  },
  {
   "cell_type": "code",
   "execution_count": 41,
   "metadata": {},
   "outputs": [
    {
     "data": {
      "text/html": [
       "<div>\n",
       "<style scoped>\n",
       "    .dataframe tbody tr th:only-of-type {\n",
       "        vertical-align: middle;\n",
       "    }\n",
       "\n",
       "    .dataframe tbody tr th {\n",
       "        vertical-align: top;\n",
       "    }\n",
       "\n",
       "    .dataframe thead th {\n",
       "        text-align: right;\n",
       "    }\n",
       "</style>\n",
       "<table border=\"1\" class=\"dataframe\">\n",
       "  <thead>\n",
       "    <tr style=\"text-align: right;\">\n",
       "      <th></th>\n",
       "      <th>Value</th>\n",
       "    </tr>\n",
       "    <tr>\n",
       "      <th>Parameter</th>\n",
       "      <th></th>\n",
       "    </tr>\n",
       "  </thead>\n",
       "  <tbody>\n",
       "    <tr>\n",
       "      <th>Equatorial Diameter:</th>\n",
       "      <td>120,536 km</td>\n",
       "    </tr>\n",
       "    <tr>\n",
       "      <th>Polar Diameter:</th>\n",
       "      <td>108,728 km</td>\n",
       "    </tr>\n",
       "    <tr>\n",
       "      <th>Mass:</th>\n",
       "      <td>5.68 × 10^26 kg (95 Earths)</td>\n",
       "    </tr>\n",
       "    <tr>\n",
       "      <th>Moons:</th>\n",
       "      <td>62 (Titan, Enceladus, Iapetus &amp; Rhea)</td>\n",
       "    </tr>\n",
       "    <tr>\n",
       "      <th>Rings:</th>\n",
       "      <td>30+ (7 Groups)</td>\n",
       "    </tr>\n",
       "    <tr>\n",
       "      <th>Orbit Distance:</th>\n",
       "      <td>1,426,666,422 km (9.54 AU)</td>\n",
       "    </tr>\n",
       "    <tr>\n",
       "      <th>Orbit Period:</th>\n",
       "      <td>10,756 days (29.5 years)</td>\n",
       "    </tr>\n",
       "    <tr>\n",
       "      <th>Effective Temperature:</th>\n",
       "      <td>-178 °C</td>\n",
       "    </tr>\n",
       "    <tr>\n",
       "      <th>First Record:</th>\n",
       "      <td>8th century BC</td>\n",
       "    </tr>\n",
       "    <tr>\n",
       "      <th>Recorded By:</th>\n",
       "      <td>Assyrians</td>\n",
       "    </tr>\n",
       "  </tbody>\n",
       "</table>\n",
       "</div>"
      ],
      "text/plain": [
       "                                                        Value\n",
       "Parameter                                                    \n",
       "Equatorial Diameter:                               120,536 km\n",
       "Polar Diameter:                                    108,728 km\n",
       "Mass:                             5.68 × 10^26 kg (95 Earths)\n",
       "Moons:                  62 (Titan, Enceladus, Iapetus & Rhea)\n",
       "Rings:                                         30+ (7 Groups)\n",
       "Orbit Distance:                    1,426,666,422 km (9.54 AU)\n",
       "Orbit Period:                        10,756 days (29.5 years)\n",
       "Effective Temperature:                                -178 °C\n",
       "First Record:                                  8th century BC\n",
       "Recorded By:                                        Assyrians"
      ]
     },
     "execution_count": 41,
     "metadata": {},
     "output_type": "execute_result"
    }
   ],
   "source": [
    "df = tables[0]\n",
    "df.columns = ['Parameter', 'Value']\n",
    "df.set_index('Parameter',inplace=True)\n",
    "df\n"
   ]
  },
  {
   "cell_type": "code",
   "execution_count": 80,
   "metadata": {
    "scrolled": true
   },
   "outputs": [
    {
     "data": {
      "text/plain": [
       "'<table border=\"1\" class=\"dataframe\">  <thead>    <tr style=\"text-align: right;\">      <th></th>      <th>Value</th>    </tr>    <tr>      <th>Parameter</th>      <th></th>    </tr>  </thead>  <tbody>    <tr>      <th>Equatorial Diameter:</th>      <td>120,536 km</td>    </tr>    <tr>      <th>Polar Diameter:</th>      <td>108,728 km</td>    </tr>    <tr>      <th>Mass:</th>      <td>5.68 × 10^26 kg (95 Earths)</td>    </tr>    <tr>      <th>Moons:</th>      <td>62 (Titan, Enceladus, Iapetus &amp; Rhea)</td>    </tr>    <tr>      <th>Rings:</th>      <td>30+ (7 Groups)</td>    </tr>    <tr>      <th>Orbit Distance:</th>      <td>1,426,666,422 km (9.54 AU)</td>    </tr>    <tr>      <th>Orbit Period:</th>      <td>10,756 days (29.5 years)</td>    </tr>    <tr>      <th>Effective Temperature:</th>      <td>-178 °C</td>    </tr>    <tr>      <th>First Record:</th>      <td>8th\\xa0century BC</td>    </tr>    <tr>      <th>Recorded By:</th>      <td>Assyrians</td>    </tr>  </tbody></table>'"
      ]
     },
     "execution_count": 80,
     "metadata": {},
     "output_type": "execute_result"
    }
   ],
   "source": [
    "mars_facts = df.to_html().replace('\\n', '')\n",
    "mars_facts"
   ]
  },
  {
   "cell_type": "markdown",
   "metadata": {},
   "source": [
    "## Mars Hemisperes"
   ]
  },
  {
   "cell_type": "code",
   "execution_count": 55,
   "metadata": {},
   "outputs": [],
   "source": [
    "# open page with splinter\n",
    "url = 'https://astrogeology.usgs.gov/search/results?q=hemisphere+enhanced&k1=target&v1=Mars'\n",
    "host= 'https://astrogeology.usgs.gov'\n",
    "browser.visit(url)\n",
    "time.sleep(5)"
   ]
  },
  {
   "cell_type": "code",
   "execution_count": 56,
   "metadata": {},
   "outputs": [
    {
     "data": {
      "text/plain": [
       "[<a class=\"itemLink product-item\" href=\"/search/map/Mars/Viking/cerberus_enhanced\"><img alt=\"Cerberus Hemisphere Enhanced thumbnail\" class=\"thumb\" src=\"/cache/images/dfaf3849e74bf973b59eb50dab52b583_cerberus_enhanced.tif_thumb.png\"/></a>,\n",
       " <a class=\"itemLink product-item\" href=\"/search/map/Mars/Viking/cerberus_enhanced\"><h3>Cerberus Hemisphere Enhanced</h3></a>,\n",
       " <a class=\"itemLink product-item\" href=\"/search/map/Mars/Viking/schiaparelli_enhanced\"><img alt=\"Schiaparelli Hemisphere Enhanced thumbnail\" class=\"thumb\" src=\"/cache/images/7677c0a006b83871b5a2f66985ab5857_schiaparelli_enhanced.tif_thumb.png\"/></a>,\n",
       " <a class=\"itemLink product-item\" href=\"/search/map/Mars/Viking/schiaparelli_enhanced\"><h3>Schiaparelli Hemisphere Enhanced</h3></a>,\n",
       " <a class=\"itemLink product-item\" href=\"/search/map/Mars/Viking/syrtis_major_enhanced\"><img alt=\"Syrtis Major Hemisphere Enhanced thumbnail\" class=\"thumb\" src=\"/cache/images/aae41197e40d6d4f3ea557f8cfe51d15_syrtis_major_enhanced.tif_thumb.png\"/></a>,\n",
       " <a class=\"itemLink product-item\" href=\"/search/map/Mars/Viking/syrtis_major_enhanced\"><h3>Syrtis Major Hemisphere Enhanced</h3></a>,\n",
       " <a class=\"itemLink product-item\" href=\"/search/map/Mars/Viking/valles_marineris_enhanced\"><img alt=\"Valles Marineris Hemisphere Enhanced thumbnail\" class=\"thumb\" src=\"/cache/images/04085d99ec3713883a9a57f42be9c725_valles_marineris_enhanced.tif_thumb.png\"/></a>,\n",
       " <a class=\"itemLink product-item\" href=\"/search/map/Mars/Viking/valles_marineris_enhanced\"><h3>Valles Marineris Hemisphere Enhanced</h3></a>]"
      ]
     },
     "execution_count": 56,
     "metadata": {},
     "output_type": "execute_result"
    }
   ],
   "source": [
    "#extract links to Mars Hemispehere images\n",
    "soup = BeautifulSoup(browser.html, 'lxml')\n",
    "results=soup.find_all('a', class_='product-item',recursive=True)\n",
    "results"
   ]
  },
  {
   "cell_type": "code",
   "execution_count": 71,
   "metadata": {},
   "outputs": [
    {
     "name": "stdout",
     "output_type": "stream",
     "text": [
      "['https://astrogeology.usgs.gov/cache/images/dfaf3849e74bf973b59eb50dab52b583_cerberus_enhanced.tif_thumb.png', 'https://astrogeology.usgs.gov/cache/images/7677c0a006b83871b5a2f66985ab5857_schiaparelli_enhanced.tif_thumb.png', 'https://astrogeology.usgs.gov/cache/images/aae41197e40d6d4f3ea557f8cfe51d15_syrtis_major_enhanced.tif_thumb.png', 'https://astrogeology.usgs.gov/cache/images/04085d99ec3713883a9a57f42be9c725_valles_marineris_enhanced.tif_thumb.png']\n",
      "['Cerberus Hemisphere Enhanced', 'Schiaparelli Hemisphere Enhanced', 'Syrtis Major Hemisphere Enhanced', 'Valles Marineris Hemisphere Enhanced']\n",
      "['https://astrogeology.usgs.gov/search/map/Mars/Viking/cerberus_enhanced', 'https://astrogeology.usgs.gov/search/map/Mars/Viking/schiaparelli_enhanced', 'https://astrogeology.usgs.gov/search/map/Mars/Viking/syrtis_major_enhanced', 'https://astrogeology.usgs.gov/search/map/Mars/Viking/valles_marineris_enhanced']\n"
     ]
    }
   ],
   "source": [
    "mars_hemispheres=[]\n",
    "thumb_urls=[]\n",
    "titles=[]\n",
    "img_page_urls=[]\n",
    "\n",
    "from math import trunc\n",
    "# locate and extract hemisphere's names and a links to pages with full-size images\n",
    "for i in range(trunc(len(results)/2)):\n",
    "    # Error handling\n",
    "    try:\n",
    "        thumb_url=host + results[2*i].img['src']\n",
    "        title = results[2*i+1].text         \n",
    "        img_page_url= host + results[2*i+1]['href']\n",
    "        # Run only if all is available\n",
    "        if (title and img_page_url and thumb_url):\n",
    "            thumb_urls.append(thumb_url)\n",
    "            titles.append(title)\n",
    "            img_page_urls.append(img_page_url)\n",
    "    except Exception as e:\n",
    "        print(e)\n",
    "\n",
    "print(thumb_urls)\n",
    "print(titles)\n",
    "print(img_page_urls)"
   ]
  },
  {
   "cell_type": "code",
   "execution_count": 92,
   "metadata": {},
   "outputs": [],
   "source": [
    "# Extract full res image URL from each hemisphere's page\n",
    "img_urls=[]\n",
    "url = 'https://astrogeology.usgs.gov/search/results?q=hemisphere+enhanced&k1=target&v1=Mars'\n",
    "\n",
    "for img_page_url in img_page_urls:\n",
    "    browser.visit(img_page_url)\n",
    "    soup = BeautifulSoup(browser.html, 'lxml')\n",
    "    result=soup.find('a', text='Original', recursive=True)\n",
    "    img_urls.append(result['href'])\n",
    "    browser.visit(url)"
   ]
  },
  {
   "cell_type": "code",
   "execution_count": 103,
   "metadata": {},
   "outputs": [
    {
     "data": {
      "text/plain": [
       "[{'img_url': 'http://astropedia.astrogeology.usgs.gov/download/Mars/Viking/cerberus_enhanced.tif',\n",
       "  'title': 'Cerberus Hemisphere Enhanced'},\n",
       " {'img_url': 'http://astropedia.astrogeology.usgs.gov/download/Mars/Viking/schiaparelli_enhanced.tif',\n",
       "  'title': 'Schiaparelli Hemisphere Enhanced'},\n",
       " {'img_url': 'http://astropedia.astrogeology.usgs.gov/download/Mars/Viking/syrtis_major_enhanced.tif',\n",
       "  'title': 'Syrtis Major Hemisphere Enhanced'},\n",
       " {'img_url': 'http://astropedia.astrogeology.usgs.gov/download/Mars/Viking/valles_marineris_enhanced.tif',\n",
       "  'title': 'Valles Marineris Hemisphere Enhanced'}]"
      ]
     },
     "execution_count": 103,
     "metadata": {},
     "output_type": "execute_result"
    }
   ],
   "source": [
    "# create a dictionary with Mars hemispheres data via a dataframe \n",
    "mars_hemispheres_imgs={}\n",
    "mars_hemispheres_imgs=pd.DataFrame.from_items([('title', titles), ('img_url',img_urls)]).to_dict('records')\n",
    "mars_hemispheres_imgs"
   ]
  },
  {
   "cell_type": "code",
   "execution_count": 104,
   "metadata": {},
   "outputs": [
    {
     "data": {
      "text/plain": [
       "{'featured_image_url': 'https://photojournal.jpl.nasa.gov/jpeg/PIA16227.jpg',\n",
       " 'hemisphere_image_urls': [{'img_url': 'http://astropedia.astrogeology.usgs.gov/download/Mars/Viking/cerberus_enhanced.tif',\n",
       "   'title': 'Cerberus Hemisphere Enhanced'},\n",
       "  {'img_url': 'http://astropedia.astrogeology.usgs.gov/download/Mars/Viking/schiaparelli_enhanced.tif',\n",
       "   'title': 'Schiaparelli Hemisphere Enhanced'},\n",
       "  {'img_url': 'http://astropedia.astrogeology.usgs.gov/download/Mars/Viking/syrtis_major_enhanced.tif',\n",
       "   'title': 'Syrtis Major Hemisphere Enhanced'},\n",
       "  {'img_url': 'http://astropedia.astrogeology.usgs.gov/download/Mars/Viking/valles_marineris_enhanced.tif',\n",
       "   'title': 'Valles Marineris Hemisphere Enhanced'}],\n",
       " 'mars_facts': '<table border=\"1\" class=\"dataframe\">  <thead>    <tr style=\"text-align: right;\">      <th></th>      <th>Value</th>    </tr>    <tr>      <th>Parameter</th>      <th></th>    </tr>  </thead>  <tbody>    <tr>      <th>Equatorial Diameter:</th>      <td>120,536 km</td>    </tr>    <tr>      <th>Polar Diameter:</th>      <td>108,728 km</td>    </tr>    <tr>      <th>Mass:</th>      <td>5.68 × 10^26 kg (95 Earths)</td>    </tr>    <tr>      <th>Moons:</th>      <td>62 (Titan, Enceladus, Iapetus &amp; Rhea)</td>    </tr>    <tr>      <th>Rings:</th>      <td>30+ (7 Groups)</td>    </tr>    <tr>      <th>Orbit Distance:</th>      <td>1,426,666,422 km (9.54 AU)</td>    </tr>    <tr>      <th>Orbit Period:</th>      <td>10,756 days (29.5 years)</td>    </tr>    <tr>      <th>Effective Temperature:</th>      <td>-178 °C</td>    </tr>    <tr>      <th>First Record:</th>      <td>8th\\xa0century BC</td>    </tr>    <tr>      <th>Recorded By:</th>      <td>Assyrians</td>    </tr>  </tbody></table>',\n",
       " 'mars_weather': 'Sol 2058 (May 21, 2018), Sunny, high 4C/39F, low -71C/-95F, pressure at 7.43 hPa, daylight 05:20-17:20',\n",
       " 'news_p': 'The spacecraft has completed its first trajectory correction maneuver.',\n",
       " 'news_title': 'InSight Steers Toward Mars'}"
      ]
     },
     "execution_count": 104,
     "metadata": {},
     "output_type": "execute_result"
    }
   ],
   "source": [
    "# create a dictionary with all the data collected\n",
    "mars_record= {\n",
    "        'news_title': news_title,\n",
    "        'news_p': news_p,\n",
    "        'featured_image_url': featured_image_url,\n",
    "        'mars_weather': mars_weather,\n",
    "        'mars_facts': mars_facts,\n",
    "        'hemisphere_image_urls': mars_hemispheres_imgs\n",
    "    }\n",
    "mars_record"
   ]
  },
  {
   "cell_type": "code",
   "execution_count": 110,
   "metadata": {},
   "outputs": [
    {
     "data": {
      "text/plain": [
       "<pymongo.results.InsertOneResult at 0x244384745e8>"
      ]
     },
     "execution_count": 110,
     "metadata": {},
     "output_type": "execute_result"
    }
   ],
   "source": [
    "# Insert data into Mongo DB\n",
    "db.items.insert_one(mars_record)"
   ]
  },
  {
   "cell_type": "code",
   "execution_count": null,
   "metadata": {},
   "outputs": [],
   "source": []
  }
 ],
 "metadata": {
  "kernelspec": {
   "display_name": "Python 3",
   "language": "python",
   "name": "python3"
  },
  "language_info": {
   "codemirror_mode": {
    "name": "ipython",
    "version": 3
   },
   "file_extension": ".py",
   "mimetype": "text/x-python",
   "name": "python",
   "nbconvert_exporter": "python",
   "pygments_lexer": "ipython3",
   "version": "3.6.4"
  }
 },
 "nbformat": 4,
 "nbformat_minor": 2
}
